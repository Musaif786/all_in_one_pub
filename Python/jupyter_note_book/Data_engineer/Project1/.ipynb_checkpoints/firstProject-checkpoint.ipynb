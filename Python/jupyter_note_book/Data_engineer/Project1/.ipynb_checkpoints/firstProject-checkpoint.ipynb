{
 "cells": [
  {
   "cell_type": "markdown",
   "id": "358865e4-e4ff-479a-a477-587603985288",
   "metadata": {},
   "source": [
    "## Project1"
   ]
  },
  {
   "cell_type": "code",
   "execution_count": 1,
   "id": "ac2a30ce-39fe-47fc-bb2d-e66478478bf5",
   "metadata": {},
   "outputs": [
    {
     "name": "stdout",
     "output_type": "stream",
     "text": [
      "hello world\n"
     ]
    }
   ],
   "source": [
    "print(\"hello world\")"
   ]
  },
  {
   "cell_type": "code",
   "execution_count": 2,
   "id": "b1a8a244-974a-417c-aae9-06e7baeac2c5",
   "metadata": {},
   "outputs": [],
   "source": [
    "#!pip install psycopg2"
   ]
  },
  {
   "cell_type": "code",
   "execution_count": 3,
   "id": "bd6f4d23-65f7-44cc-a1fa-e60cdd50ec2f",
   "metadata": {},
   "outputs": [],
   "source": [
    "#importing modules\n",
    "\n",
    "import psycopg2\n",
    "import pandas as pd"
   ]
  },
  {
   "cell_type": "code",
   "execution_count": 4,
   "id": "555e71bd-daa1-46c5-ba0b-f2a2330ebdf2",
   "metadata": {},
   "outputs": [],
   "source": [
    "#creating a connection\n",
    "\n",
    "try:\n",
    "    con = psycopg2.connect(\"host=127.0.0.1 dbname=postgres user=postgres password=root\")\n",
    "except psycopg2.Error as e:\n",
    "    print(\"Error is: \")\n",
    "    print(e)"
   ]
  },
  {
   "cell_type": "code",
   "execution_count": 5,
   "id": "b3454a8b-ac21-444e-805e-30a85ec664ce",
   "metadata": {},
   "outputs": [],
   "source": [
    "#creating a curson to execute query\n",
    "\n",
    "try:\n",
    "    cur = con.cursor()\n",
    "except psycopg2.Error as e:\n",
    "    print(e)"
   ]
  },
  {
   "cell_type": "code",
   "execution_count": 6,
   "id": "945713bc-42e1-46d5-a3e0-30d821755f67",
   "metadata": {},
   "outputs": [],
   "source": [
    "# adding auto commit\n",
    "\n",
    "con.set_session(autocommit=True)"
   ]
  },
  {
   "cell_type": "code",
   "execution_count": 7,
   "id": "fcc1fbd2-ff5f-4524-a58d-027898e8e5e5",
   "metadata": {},
   "outputs": [
    {
     "name": "stdout",
     "output_type": "stream",
     "text": [
      "database \"test\" already exists\n",
      "\n"
     ]
    }
   ],
   "source": [
    "#creating a database as test\n",
    "\n",
    "try:\n",
    "    cur.execute(\"create database test\")\n",
    "except psycopg2.Error as e:\n",
    "    print(e)"
   ]
  },
  {
   "cell_type": "raw",
   "id": "426cd46d-789e-4882-98f0-1d020a96fac4",
   "metadata": {},
   "source": [
    "# Creating a table\n",
    "id\n",
    "name\n",
    "age\n",
    "gender"
   ]
  },
  {
   "cell_type": "code",
   "execution_count": 8,
   "id": "321d5547-9402-498f-87b2-4e485316fe47",
   "metadata": {},
   "outputs": [],
   "source": [
    "#create a tabke called person with above details\n",
    "\n",
    "try:\n",
    "    cur.execute(\"CREATE TABLE IF NOT EXISTS person (id int, name varchar, age int, gender varchar);\")\n",
    "except psycopg2.Error as e:\n",
    "    print(\"Error is: \")\n",
    "    print(e)"
   ]
  },
  {
   "cell_type": "code",
   "execution_count": 9,
   "id": "2a884a5d-252c-4205-b641-0690759067d9",
   "metadata": {},
   "outputs": [],
   "source": [
    "# inserting data into it\n",
    "\n",
    "try:\n",
    "    cur.execute(\"insert into person (id , name , age , gender ) VALUES (%s,%s,%s,%s)\",\\\n",
    "                (1,\"musaif\",25,\"male\"))\n",
    "except psycopg2.Error as e:\n",
    "    print(\"Error is: \")\n",
    "    print(e)\n",
    "\n",
    "try:\n",
    "    cur.execute(\"insert into person (id , name , age , gender ) VALUES (%s,%s,%s,%s)\",\\\n",
    "                (2,\"Aleem\",26,\"male\"))\n",
    "except psycopg2.Error as e:\n",
    "    print(\"Error is: \")\n",
    "    print(e)"
   ]
  },
  {
   "cell_type": "code",
   "execution_count": 10,
   "id": "61e7bb5a-d3ad-43ea-afb8-7a9c128a7dda",
   "metadata": {},
   "outputs": [
    {
     "name": "stdout",
     "output_type": "stream",
     "text": [
      "(1, 'musaif', 25, 'male')\n",
      "(2, 'Aleem', 26, 'male')\n"
     ]
    }
   ],
   "source": [
    "#fecting the data from our ta\n",
    "\n",
    "try:\n",
    "    cur.execute(\"SELECT * FROM person\")\n",
    "except psycopg2.Error as e:\n",
    "    print(\"Error is: \")\n",
    "    print(e)\n",
    "\n",
    "data = cur.fetchone()\n",
    "while data:\n",
    "    print(data)\n",
    "    data = cur.fetchone()"
   ]
  },
  {
   "cell_type": "code",
   "execution_count": 11,
   "id": "57832ed3-ab3c-46bc-8d74-db57b088cc9c",
   "metadata": {},
   "outputs": [],
   "source": [
    "# Removing the inserted data from the table\n",
    "\n",
    "try:\n",
    "    cur.execute(\"TRUNCATE TABLE person;\")\n",
    "except psycopg2.Error as e:\n",
    "    print(e)"
   ]
  },
  {
   "cell_type": "code",
   "execution_count": 12,
   "id": "070f312b-1f6c-494e-92bf-d3a5419aad96",
   "metadata": {},
   "outputs": [],
   "source": [
    "# closing opened connection and open cursor\n",
    "\n",
    "if cur:\n",
    "    cur.close()\n",
    "if con:\n",
    "    con.close()"
   ]
  },
  {
   "cell_type": "code",
   "execution_count": null,
   "id": "f748c923-4f04-4e07-a4cf-fe61210f968e",
   "metadata": {},
   "outputs": [],
   "source": []
  }
 ],
 "metadata": {
  "kernelspec": {
   "display_name": "Python 3 (ipykernel)",
   "language": "python",
   "name": "python3"
  },
  "language_info": {
   "codemirror_mode": {
    "name": "ipython",
    "version": 3
   },
   "file_extension": ".py",
   "mimetype": "text/x-python",
   "name": "python",
   "nbconvert_exporter": "python",
   "pygments_lexer": "ipython3",
   "version": "3.12.0"
  }
 },
 "nbformat": 4,
 "nbformat_minor": 5
}
